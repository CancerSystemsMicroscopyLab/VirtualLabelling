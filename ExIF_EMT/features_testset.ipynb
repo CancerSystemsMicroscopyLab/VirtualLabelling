{
 "cells": [
  {
   "cell_type": "code",
   "execution_count": 1,
   "metadata": {},
   "outputs": [],
   "source": [
    "import pandas as pd\n",
    "import numpy as np\n",
    "import plotly.express as px\n",
    "\n",
    "from scipy.stats import ttest_ind"
   ]
  },
  {
   "cell_type": "code",
   "execution_count": 2,
   "metadata": {},
   "outputs": [],
   "source": [
    "datapath = r'./Cellprofiler outputs/test_set_features.csv'\n",
    "cell_df = pd.read_csv(datapath)"
   ]
  },
  {
   "cell_type": "code",
   "execution_count": 3,
   "metadata": {},
   "outputs": [],
   "source": [
    "def get_corrs(df, name, groups):\n",
    "  experiment_groups = df.groupby(groups)\n",
    "\n",
    "  correlations = pd.DataFrame()\n",
    "\n",
    "  for feature in df.columns:\n",
    "    if 'FileName' in feature or 'PathName' in feature or 'Metadata' in feature:\n",
    "      pass\n",
    "    elif 'real' in feature:\n",
    "      pred_feature = feature.replace('real', name, 1)\n",
    "\n",
    "      pcorrelation = experiment_groups[[feature, pred_feature]].corr('pearson').unstack().iloc[:,1].reset_index()\n",
    "\n",
    "      pcorrelation.columns = groups + ['pcc']\n",
    "      pcorrelation['feature'] = feature\n",
    "      pcorrelation['feature_cat'] = feature.split('_', 1)[0]\n",
    "      pcorrelation['method'] = 'pearson'\n",
    "      correlations = pd.concat([correlations, pcorrelation], axis=0)\n",
    "  return correlations"
   ]
  },
  {
   "cell_type": "code",
   "execution_count": 4,
   "metadata": {},
   "outputs": [],
   "source": [
    "groups = ['Metadata_marker', 'Metadata_fold', 'Metadata_inputs']\n",
    "pred_corrs = get_corrs(cell_df, 'prediction', groups)"
   ]
  },
  {
   "cell_type": "code",
   "execution_count": null,
   "metadata": {},
   "outputs": [],
   "source": [
    "tmp = pred_corrs[(pred_corrs.Metadata_inputs == 'TD') | (pred_corrs.Metadata_inputs == 'TD_DAPI_phalloidin_Bcatenin')]\n",
    "tmp = tmp[['feature_cat', 'Metadata_fold', 'Metadata_inputs', 'pcc']].groupby(['feature_cat', 'Metadata_fold', 'Metadata_inputs']).agg(np.median).reset_index()\n",
    "\n",
    "\n",
    "fig = px.box(\n",
    "    tmp, \n",
    "    x=f'feature_cat',\n",
    "    y='pcc',\n",
    "    color='Metadata_inputs',\n",
    ")\n",
    "\n",
    "fig.update_traces(boxmean=True)\n",
    "fig.update_traces(boxpoints=False)\n",
    "\n",
    "fig.show()"
   ]
  },
  {
   "cell_type": "code",
   "execution_count": null,
   "metadata": {},
   "outputs": [],
   "source": [
    "for f in ['Intensity','RadialDistribution','Texture']:\n",
    "    group1 = tmp[(tmp['Metadata_inputs']=='TD') & (tmp['feature_cat']==f)]\n",
    "    group2 = tmp[(tmp['Metadata_inputs']=='TD_DAPI_phalloidin_Bcatenin')  & (tmp['feature_cat']==f)]\n",
    "\n",
    "    test = ttest_ind(group1['pcc'], group2['pcc'], equal_var=False)\n",
    "    print(f'{f} : {test.pvalue}')\n"
   ]
  },
  {
   "cell_type": "code",
   "execution_count": null,
   "metadata": {},
   "outputs": [],
   "source": []
  },
  {
   "cell_type": "code",
   "execution_count": null,
   "metadata": {},
   "outputs": [],
   "source": [
    "tmp = pred_corrs[(pred_corrs.Metadata_inputs == 'TD') | (pred_corrs.Metadata_inputs == 'TD_DAPI_phalloidin_Bcatenin')]\n",
    "tmp = tmp[tmp.feature == 'Intensity_MeanIntensity_real']\n",
    "tmp = tmp[['feature_cat', 'Metadata_fold', 'Metadata_marker', 'Metadata_inputs', 'pcc']].groupby(['feature_cat', 'Metadata_marker', 'Metadata_fold', 'Metadata_inputs']).agg(np.median).reset_index()\n",
    "\n",
    "\n",
    "fig = px.box(\n",
    "    tmp, \n",
    "    x=f'Metadata_marker',\n",
    "    y='pcc',\n",
    "    color='Metadata_inputs',\n",
    ")\n",
    "\n",
    "fig.update_traces(boxmean=True)\n",
    "fig.update_traces(boxpoints=False)\n",
    "\n",
    "fig.show()"
   ]
  },
  {
   "cell_type": "code",
   "execution_count": null,
   "metadata": {},
   "outputs": [],
   "source": [
    "for m in tmp.Metadata_marker.drop_duplicates():\n",
    "    group1 = tmp[(tmp['Metadata_inputs']=='TD') & (tmp['Metadata_marker']==m)]\n",
    "    group2 = tmp[(tmp['Metadata_inputs']=='TD_DAPI_phalloidin_Bcatenin')  & (tmp['Metadata_marker']==m)]\n",
    "\n",
    "    test = ttest_ind(group1['pcc'], group2['pcc'], equal_var=False)\n",
    "    print(f'{m} : {test.pvalue}')"
   ]
  }
 ],
 "metadata": {
  "kernelspec": {
   "display_name": "analysis",
   "language": "python",
   "name": "python3"
  },
  "language_info": {
   "codemirror_mode": {
    "name": "ipython",
    "version": 3
   },
   "file_extension": ".py",
   "mimetype": "text/x-python",
   "name": "python",
   "nbconvert_exporter": "python",
   "pygments_lexer": "ipython3",
   "version": "3.9.18"
  },
  "orig_nbformat": 4
 },
 "nbformat": 4,
 "nbformat_minor": 2
}
