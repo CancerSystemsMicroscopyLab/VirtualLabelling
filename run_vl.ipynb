{
  "cells": [
    {
      "cell_type": "code",
      "execution_count": 1,
      "metadata": {
        "colab": {
          "base_uri": "https://localhost:8080/"
        },
        "id": "2xZDGF6ioPnO",
        "outputId": "8e9e3a33-c059-4e83-8978-729bb0c874c1"
      },
      "outputs": [],
      "source": [
        "import os\n",
        "import time\n",
        "\n",
        "import numpy as np\n",
        "from sklearn.model_selection import KFold\n",
        "\n",
        "from dataloaders.image2image_dataset import image2imagedataset\n",
        "from train_model import train_resvit_vl\n",
        "from apply_model import apply_model\n",
        "from vl_framework.runners import train_resvit, test_resvit"
      ]
    },
    {
      "cell_type": "code",
      "execution_count": null,
      "metadata": {
        "colab": {
          "base_uri": "https://localhost:8080/"
        },
        "id": "roDRMmXwoWJl",
        "outputId": "e10baee8-4c76-429e-ba14-b08e5d899f39"
      },
      "outputs": [],
      "source": [
        "dataroot = './data_example' # replace with a path to your images\n",
        "inputs = ['TD', 'DAPI'] # folders within the dataroot folder that will be used as inputs\n",
        "target = 'Fibrillarin' # target\n",
        "\n",
        "exp_name = train_resvit_vl(dataroot, inputs, target) # trains a model for images which there are target images\n",
        "\n",
        "apply_model(dataroot, exp_name) # makes predictions for all images (with and without a target image)\n",
        "\n",
        "# results folder should contain trained model and virtual labels"
      ]
    }
  ],
  "metadata": {
    "accelerator": "GPU",
    "colab": {
      "gpuType": "T4",
      "provenance": []
    },
    "kernelspec": {
      "display_name": "Python 3",
      "name": "python3"
    },
    "language_info": {
      "codemirror_mode": {
        "name": "ipython",
        "version": 3
      },
      "file_extension": ".py",
      "mimetype": "text/x-python",
      "name": "python",
      "nbconvert_exporter": "python",
      "pygments_lexer": "ipython3",
      "version": "3.10.13"
    }
  },
  "nbformat": 4,
  "nbformat_minor": 0
}
