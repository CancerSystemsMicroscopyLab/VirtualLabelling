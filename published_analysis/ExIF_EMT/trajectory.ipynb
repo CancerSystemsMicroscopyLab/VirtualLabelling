{
 "cells": [
  {
   "cell_type": "code",
   "execution_count": null,
   "metadata": {},
   "outputs": [],
   "source": [
    "import pandas as pd\n",
    "import numpy as np\n",
    "\n",
    "import plotly.express as px\n",
    "import phate\n",
    "\n",
    "from sklearn.manifold import TSNE\n",
    "import umap\n",
    "from sklearn.preprocessing import StandardScaler\n",
    "from sklearn.decomposition import PCA\n",
    "\n",
    "\n",
    "import scFates as scf\n",
    "import anndata"
   ]
  },
  {
   "cell_type": "code",
   "execution_count": null,
   "metadata": {},
   "outputs": [],
   "source": [
    "exif_df = pd.read_csv(r'./Cellprofiler outputs/full_exif_cells.csv')\n",
    "td_exif_df = pd.read_csv(r'./Cellprofiler outputs/td_exif_cells.csv')"
   ]
  },
  {
   "cell_type": "code",
   "execution_count": 2,
   "metadata": {},
   "outputs": [],
   "source": [
    "def embed(df, reducer, features):\n",
    "    scaler = StandardScaler()\n",
    "    scaled_virtual = scaler.fit_transform(df[features])\n",
    "\n",
    "    pca = PCA(n_components = 'mle')\n",
    "    pca_virtual = pca.fit_transform(scaled_virtual)\n",
    "\n",
    "    embedding = pd.DataFrame(reducer.fit_transform(pca_virtual), columns=['x', 'y'])\n",
    "    embedding = embedding.join(df.reset_index())\n",
    "    embedding.condition = embedding.condition.astype(str)\n",
    "\n",
    "    return embedding"
   ]
  },
  {
   "cell_type": "code",
   "execution_count": 4,
   "metadata": {},
   "outputs": [],
   "source": [
    "general_marker_features = []\n",
    "variable_predicted_features = []\n",
    "\n",
    "for x in exif_df.columns:\n",
    "    if x.startswith('Intensity') or x.startswith('RadialDistribution') or x.startswith('Texture') :\n",
    "        if ('DAPI' in x) or ('Bcatenin' in x) or ('Phalloidin' in x):\n",
    "            general_marker_features.append(x)\n",
    "        else:\n",
    "            variable_predicted_features.append(x)"
   ]
  },
  {
   "cell_type": "code",
   "execution_count": null,
   "metadata": {},
   "outputs": [],
   "source": [
    "# reducer = TSNE(n_components=2, learning_rate='auto', init='random', perplexity=10)\n",
    "# reducer = umap.UMAP()\n",
    "reducer = phate.PHATE(n_components=2, knn=5, decay=40)\n",
    "embedded_common = embed(exif_df, reducer, general_marker_features)\n",
    "\n",
    "px.scatter(\n",
    "    embedded_common,\n",
    "    x='x',\n",
    "    y='y',\n",
    "    color='condition'\n",
    "\n",
    ")"
   ]
  },
  {
   "cell_type": "code",
   "execution_count": null,
   "metadata": {},
   "outputs": [],
   "source": [
    "td_common_features = []\n",
    "td_var_features = []\n",
    "\n",
    "for x in td_exif_df.columns:\n",
    "    if x.startswith('Intensity') or x.startswith('RadialDistribution') or x.startswith('Texture') :\n",
    "        if ('DAPI' not in x) and ('Bcatenin' not in x) and ('Phalloidin' not in x):\n",
    "            td_var_features.append(x)\n",
    "\n",
    "        if 'pred' in x:\n",
    "            td_common_features.append(x)\n",
    "\n",
    "# reducer = TSNE(n_components=2, learning_rate='auto', init='random', perplexity=10)\n",
    "# reducer = umap.UMAP()\n",
    "reducer = phate.PHATE(n_components=2, knn=5, decay=40)\n",
    "embedded_td_exif = embed(td_exif_df, reducer, td_common_features + td_var_features)\n",
    "\n",
    "px.scatter(\n",
    "    embedded_td_exif,\n",
    "    x='x',\n",
    "    y='y',\n",
    "    color='condition'\n",
    ")"
   ]
  },
  {
   "cell_type": "code",
   "execution_count": null,
   "metadata": {},
   "outputs": [],
   "source": [
    "# reducer = TSNE(n_components=2, learning_rate='auto', init='random', perplexity=10)\n",
    "# reducer = umap.UMAP()\n",
    "reducer = phate.PHATE(n_components=2, knn=5, decay=40)\n",
    "embedded_exif = embed(exif_df, reducer, general_marker_features + variable_predicted_features)\n",
    "\n",
    "px.scatter(\n",
    "    embedded_exif,\n",
    "    x='x',\n",
    "    y='y',\n",
    "    color='condition'\n",
    ")"
   ]
  },
  {
   "cell_type": "code",
   "execution_count": 4,
   "metadata": {},
   "outputs": [],
   "source": []
  },
  {
   "cell_type": "code",
   "execution_count": 10,
   "metadata": {},
   "outputs": [],
   "source": [
    "def run_pseudotime(df):\n",
    "    # Assign pre-calcuated manifold to annotated dataframe\n",
    "    df['condition'] = df['condition'].astype('uint8')\n",
    "    adata = anndata.AnnData(df[['x', 'y', 'condition']])\n",
    "    adata.raw=adata\n",
    "\n",
    "    adata.obsm['X_phate'] = np.array(df[['x', 'y']])\n",
    "    # adata.obsm['X_phatecommon'] = np.array(phate_common[['x', 'y']])\n",
    "    # adata.obsm['X_tdphate'] = np.array(td_phate_virtual[['x', 'y']])\n",
    "\n",
    "    scf.tl.curve(adata,Nodes=25,use_rep=\"X_phate\",ndims_rep=2)\n",
    "    scf.tl.convert_to_soft(adata,0.001,1000, n_steps=1)\n",
    "    scf.pl.graph(adata,basis=\"phate\")\n",
    "    scf.tl.root(adata,\"condition\")\n",
    "    scf.tl.pseudotime(adata,n_jobs=20,n_map=100,seed=42)\n",
    "\n",
    "    scf.pl.trajectory(adata,basis=\"phate\",arrows=True,arrow_offset=3)\n",
    "\n",
    "    df['ptime'] = np.array(adata.uns['pseudotime_list']['1']['t'])\n",
    "    "
   ]
  },
  {
   "cell_type": "code",
   "execution_count": null,
   "metadata": {},
   "outputs": [],
   "source": [
    "run_pseudotime(embedded_common)\n",
    "run_pseudotime(embedded_td_exif)\n",
    "run_pseudotime(embedded_exif)\n"
   ]
  },
  {
   "cell_type": "code",
   "execution_count": 18,
   "metadata": {},
   "outputs": [],
   "source": [
    "def melt_expression(df, feature='Intensity_MeanIntensity', suffix=''):\n",
    "    markers = ['Bcatenin', 'DAPI', 'Phalloidin', 'CD44', 'CD44std', 'CD44v9', 'Ecadherin', 'EpCAM', 'Ncadherin', 'PTEN', 'Vimentin']\n",
    "    tmp = df[[\n",
    "        'x',\n",
    "        'y',\n",
    "        'condition',\n",
    "        'ptime'] + [f'{feature}_{x}{suffix}' for x in markers]\n",
    "    ]\n",
    "    \n",
    "    for col in [f'{feature}_{x}{suffix}' for x in markers]:\n",
    "        tmp[col] = (tmp[col] - tmp[col].mean()) / tmp[col].std()    \n",
    "\n",
    "    melt = tmp.melt(id_vars=['x', 'y', 'condition', 'ptime'])\n",
    "\n",
    "    melt['pseudotime'] = melt['ptime'].round(decimals=3)\n",
    "    return melt"
   ]
  },
  {
   "cell_type": "code",
   "execution_count": null,
   "metadata": {},
   "outputs": [],
   "source": [
    "melt_embedded_common= melt_expression(embedded_common).groupby(['pseudotime', 'variable']).agg(np.median).reset_index()\n",
    "\n",
    "fig = px.line(\n",
    "    melt_embedded_common,\n",
    "    x='pseudotime',\n",
    "    y='value',\n",
    "    color='variable'\n",
    ")\n",
    "\n",
    "fig.show()"
   ]
  },
  {
   "cell_type": "code",
   "execution_count": null,
   "metadata": {},
   "outputs": [],
   "source": [
    "# all cell/labels (3 common markers here are purely experimentally labelled)\n",
    "\n",
    "melt_embedded_exif= melt_expression(embedded_exif).groupby(['pseudotime', 'variable']).agg(np.median).reset_index()\n",
    "\n",
    "fig = px.line(\n",
    "    melt_embedded_exif,\n",
    "    x='pseudotime',\n",
    "    y='value',\n",
    "    color='variable'\n",
    ")\n",
    "\n",
    "fig.show()"
   ]
  },
  {
   "cell_type": "code",
   "execution_count": null,
   "metadata": {},
   "outputs": [],
   "source": [
    "# only experimental labels (variable markers)\n",
    "\n",
    "# import dataset with experimental labelling (in a subset of cells)\n",
    "datapath = r'./Cellprofiler outputs/test_set_features.csv'\n",
    "cell_df = pd.read_csv(datapath)\n",
    "\n",
    "# join to the exif dataset using shared randomly chosen real columns as a key \n",
    "real_labels = cell_df[(cell_df['Metadata_inputs'] == 'TD_DAPI_phalloidin_Bcatenin')]\n",
    "virtual_with_reals = embedded_exif.merge(real_labels[['Texture_Variance_Phalloidin_3_00_256', 'Intensity_MeanIntensity_real']], on=['Texture_Variance_Phalloidin_3_00_256'])\n",
    "\n",
    "virtual_with_reals = virtual_with_reals[['Metadata_marker', 'ptime', 'Intensity_MeanIntensity_real']]\n",
    "virtual_with_reals['pseudotime'] = virtual_with_reals['ptime'].round(decimals=3)\n",
    "\n",
    "virtual_with_reals['Intensity_MeanIntensity_real'] = virtual_with_reals.groupby(['Metadata_marker']).transform(lambda x: (x-x.mean()) / x.std())['Intensity_MeanIntensity_real']\n",
    "virtual_with_reals = virtual_with_reals.groupby(['pseudotime', 'Metadata_marker']).agg(np.median).reset_index()\n",
    "\n",
    "fig = px.line(\n",
    "    virtual_with_reals,\n",
    "    x='pseudotime',\n",
    "    y='Intensity_MeanIntensity_real',\n",
    "    color='Metadata_marker'\n",
    ")\n",
    "\n",
    "fig.show()\n"
   ]
  },
  {
   "cell_type": "code",
   "execution_count": null,
   "metadata": {},
   "outputs": [],
   "source": []
  }
 ],
 "metadata": {
  "kernelspec": {
   "display_name": "PytorchLab",
   "language": "python",
   "name": "python3"
  },
  "language_info": {
   "codemirror_mode": {
    "name": "ipython",
    "version": 3
   },
   "file_extension": ".py",
   "mimetype": "text/x-python",
   "name": "python",
   "nbconvert_exporter": "python",
   "pygments_lexer": "ipython3",
   "version": "3.10.4"
  },
  "orig_nbformat": 4
 },
 "nbformat": 4,
 "nbformat_minor": 2
}
