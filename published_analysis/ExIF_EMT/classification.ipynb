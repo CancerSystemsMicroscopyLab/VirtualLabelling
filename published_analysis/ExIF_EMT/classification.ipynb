{
 "cells": [
  {
   "cell_type": "code",
   "execution_count": 55,
   "metadata": {},
   "outputs": [],
   "source": [
    "import pandas as pd\n",
    "import numpy as np\n",
    "\n",
    "import plotly.express as px\n",
    "import plotly.figure_factory as ff\n",
    "\n",
    "from sklearn.preprocessing import StandardScaler\n",
    "from sklearn.decomposition import PCA\n",
    "from sklearn.svm import SVC\n",
    "from sklearn.model_selection import train_test_split\n",
    "from sklearn.metrics import classification_report\n",
    "from sklearn.model_selection import StratifiedKFold\n",
    "\n",
    "from scipy.stats import ttest_ind"
   ]
  },
  {
   "cell_type": "code",
   "execution_count": 40,
   "metadata": {},
   "outputs": [],
   "source": [
    "def run_classification(df, m, features, input, name, results):\n",
    "\n",
    "    cell_data = df[(df['Metadata_marker'] == m) & (df['Metadata_inputs'] == input)]\n",
    "\n",
    "    skf = StratifiedKFold(n_splits=5, shuffle=True, random_state=0)\n",
    "    features_cell_df = cell_data[features].values\n",
    "\n",
    "    fold = 0\n",
    "    for train_index, test_index in skf.split(features_cell_df, cell_data.condition.astype('category')):\n",
    "        fold = fold + 1\n",
    "        X_train = features_cell_df[train_index]\n",
    "        X_test = features_cell_df[test_index]\n",
    "        Y_train = cell_data.condition.astype('category').values[train_index]\n",
    "        Y_test = cell_data.condition.astype('category').values[test_index]\n",
    "\n",
    "        scaler = StandardScaler()\n",
    "        scaled_X_train = scaler.fit_transform(X_train)\n",
    "\n",
    "        pca = PCA(n_components = 'mle')\n",
    "        pca.fit(scaled_X_train)\n",
    "        \n",
    "        pca_X_train = pca.transform(scaled_X_train)\n",
    "\n",
    "        classifier = SVC()\n",
    "        classifier.fit(pca_X_train, Y_train)\n",
    "\n",
    "        scaled_X_test = scaler.fit_transform(X_test)\n",
    "        pca_X_test = pca.transform(scaled_X_test)\n",
    "\n",
    "        y_hat = classifier.predict(pca_X_test)\n",
    "\n",
    "        class_report = classification_report(Y_test, y_hat, target_names=['cond1', 'cond2', 'cond3'], output_dict=True)\n",
    "        f1 = class_report['weighted avg']['f1-score']\n",
    "        precision = class_report['weighted avg']['precision']\n",
    "        recall = class_report['weighted avg']['recall']\n",
    "\n",
    "        results['fold'].append(fold)\n",
    "        results['f1'].append(f1)\n",
    "        results['precision'].append(precision)\n",
    "        results['recall'].append(recall)\n",
    "        results['experiment'].append(name)\n",
    "        results['inputs'].append(input)\n",
    "        results['marker'].append(m)\n",
    "        \n",
    "\n",
    "    return results"
   ]
  },
  {
   "cell_type": "code",
   "execution_count": 41,
   "metadata": {},
   "outputs": [],
   "source": [
    "test_set_df = pd.read_csv(r'./Cellprofiler outputs/test_set_features.csv')\n",
    "\n",
    "exif_df = pd.read_csv(r'./Cellprofiler outputs/full_exif_cells.csv')\n",
    "td_exif_df = pd.read_csv(r'./Cellprofiler outputs/td_exif_cells.csv')\n",
    "fluorescence_exif_df = pd.read_csv(r'./Cellprofiler outputs/fluorescence_exif_cells.csv')\n"
   ]
  },
  {
   "cell_type": "code",
   "execution_count": null,
   "metadata": {},
   "outputs": [],
   "source": [
    "markers =  ['CD44', 'CD44std', 'CD44v9', 'Ecadherin', 'EpCAM', 'Ncadherin', 'PTEN', 'Vimentin']"
   ]
  },
  {
   "cell_type": "code",
   "execution_count": 68,
   "metadata": {},
   "outputs": [],
   "source": [
    "test_set_df = pd.read_csv(r'./Cellprofiler outputs/test_set_features.csv')"
   ]
  },
  {
   "cell_type": "code",
   "execution_count": 71,
   "metadata": {},
   "outputs": [],
   "source": [
    "test_set_df['condition'] = test_set_df.Metadata_well.str[-1].astype(int)/2\n",
    "test_set_df['condition'] = test_set_df['condition'].apply(np.ceil).astype(int)"
   ]
  },
  {
   "cell_type": "code",
   "execution_count": null,
   "metadata": {},
   "outputs": [],
   "source": [
    "# histograms of mean intensity per condition\n",
    "\n",
    "# real common markers\n",
    "for m in ['Bcatenin', 'DAPI', 'Phalloidin']:\n",
    "    tmp_df = test_set_df\n",
    "    x= [tmp_df[tmp_df['condition'] == 1][f'Intensity_MeanIntensity_{m}'], tmp_df[tmp_df['condition'] == 2][f'Intensity_MeanIntensity_{m}'], tmp_df[tmp_df['condition'] == 3][f'Intensity_MeanIntensity_{m}']]\n",
    "    fig = ff.create_distplot(x, [1,2,3], show_hist=False, show_rug=False, bin_size=.2)\n",
    "\n",
    "    fig.show()\n",
    "\n",
    "# real variable markers\n",
    "for m in markers:\n",
    "    tmp_df = test_set_df[test_set_df.Metadata_marker == m]\n",
    "    x= [tmp_df[tmp_df['condition'] == 1][f'Intensity_MeanIntensity_real'], tmp_df[tmp_df['condition'] == 2][f'Intensity_MeanIntensity_real'], tmp_df[tmp_df['condition'] == 3][f'Intensity_MeanIntensity_real']]\n",
    "    fig = ff.create_distplot(x, [1,2,3], show_hist=False, show_rug=False, bin_size=.2)\n",
    "\n",
    "    fig.show()\n",
    "\n",
    "# virtual variable markers\n",
    "for m in markers:\n",
    "    tmp_df = exif_df\n",
    "    x= [tmp_df[tmp_df['condition'] == 1][f'Intensity_MeanIntensity_{m}'], tmp_df[tmp_df['condition'] == 2][f'Intensity_MeanIntensity_{m}'], tmp_df[tmp_df['condition'] == 3][f'Intensity_MeanIntensity_{m}']]\n",
    "    fig = ff.create_distplot(x, [1,2,3], show_hist=False, show_rug=False, bin_size=.2)\n",
    "\n",
    "    fig.show()"
   ]
  },
  {
   "cell_type": "code",
   "execution_count": 42,
   "metadata": {},
   "outputs": [],
   "source": [
    "context_features = [         \n",
    "       'AreaShape_Area',\n",
    "       'AreaShape_Compactness', \n",
    "       'AreaShape_Eccentricity',\n",
    "       'AreaShape_EquivalentDiameter', \n",
    "       'AreaShape_Extent', \n",
    "       'AreaShape_FormFactor', \n",
    "       'AreaShape_MajorAxisLength',\n",
    "       'AreaShape_MaxFeretDiameter', \n",
    "       'AreaShape_MaximumRadius',\n",
    "       'AreaShape_MeanRadius', \n",
    "       'AreaShape_MedianRadius',\n",
    "       'AreaShape_MinFeretDiameter', \n",
    "       'AreaShape_MinorAxisLength',\n",
    "       'AreaShape_Perimeter', \n",
    "       'AreaShape_Solidity',\n",
    "       'Neighbors_NumberOfNeighbors_Adjacent',\n",
    "       'Neighbors_PercentTouching_Adjacent',\n",
    "]"
   ]
  },
  {
   "cell_type": "code",
   "execution_count": 43,
   "metadata": {},
   "outputs": [],
   "source": [
    "general_marker_features = []\n",
    "variable_predicted_features = []\n",
    "\n",
    "for x in exif_df.columns:\n",
    "    if x.startswith('Intensity') or x.startswith('RadialDistribution') or x.startswith('Texture') :\n",
    "        if ('DAPI' in x) or ('Bcatenin' in x) or ('Phalloidin' in x):\n",
    "            general_marker_features.append(x)\n",
    "        else:\n",
    "            variable_predicted_features.append(x)"
   ]
  },
  {
   "cell_type": "code",
   "execution_count": 44,
   "metadata": {},
   "outputs": [],
   "source": [
    "results = {\n",
    "    'marker':[],\n",
    "    'f1':[],\n",
    "    'inputs':[],\n",
    "    'precision':[],\n",
    "    'recall':[],\n",
    "    'fold': [],\n",
    "    'experiment':[],\n",
    "}"
   ]
  },
  {
   "cell_type": "code",
   "execution_count": 46,
   "metadata": {},
   "outputs": [],
   "source": [
    "# general markers classification\n",
    "for m in markers:\n",
    "    results = run_classification(exif_df, m, context_features + general_marker_features, 'TD_DAPI_phalloidin_Bcatenin', 'common markers', results)"
   ]
  },
  {
   "cell_type": "code",
   "execution_count": null,
   "metadata": {},
   "outputs": [],
   "source": [
    "# Label replacement\n",
    "td_common_features = []\n",
    "td_var_features = []\n",
    "\n",
    "for m in markers:\n",
    "\n",
    "    for x in td_exif_df.columns:\n",
    "        if x.startswith('Intensity') or x.startswith('RadialDistribution') or x.startswith('Texture') :\n",
    "            if f'_{m}_' in x or x.endswith(m):\n",
    "                td_var_features.append(x)\n",
    "\n",
    "            if 'pred' in x:\n",
    "                td_common_features.append(x)\n",
    "\n",
    "    results = run_classification(td_exif_df, m, context_features + td_common_features + td_var_features, 'TD', 'TD label replacement', results)\n"
   ]
  },
  {
   "cell_type": "code",
   "execution_count": 92,
   "metadata": {},
   "outputs": [],
   "source": [
    "# # 4-plex data\n",
    "real_features = []\n",
    "\n",
    "for x in test_set_df.columns:\n",
    "    if x.startswith('Intensity') or x.startswith('RadialDistribution') or x.startswith('Texture') :\n",
    "        if 'DAPI' in x or 'Phalloidin' in x or 'Bcatenin' in x or 'real' in x:\n",
    "            real_features.append(x)\n",
    "\n",
    "\n",
    "\n",
    "for m in ['CD44', 'CD44std', 'CD44v9', 'Ecadherin', 'EpCAM', 'Ncadherin', 'PTEN', 'Vimentin']:\n",
    "    results = run_classification(test_set_df, m, context_features + real_features, 'TD', '4-plex', results)\n"
   ]
  },
  {
   "cell_type": "code",
   "execution_count": null,
   "metadata": {},
   "outputs": [],
   "source": [
    "# td exif classification\n",
    "td_common_features = []\n",
    "td_var_features = []\n",
    "\n",
    "for x in td_exif_df.columns:\n",
    "    if x.startswith('Intensity') or x.startswith('RadialDistribution') or x.startswith('Texture') :\n",
    "        if ('DAPI' not in x) and ('Bcatenin' not in x) and ('Phalloidin' not in x):\n",
    "            td_var_features.append(x)\n",
    "\n",
    "        if 'pred' in x:\n",
    "            td_common_features.append(x)\n",
    "\n",
    "\n",
    "for m in ['CD44', 'CD44std', 'CD44v9', 'Ecadherin', 'EpCAM', 'Ncadherin', 'PTEN', 'Vimentin']:\n",
    "    results = run_classification(td_exif_df, m, context_features + td_common_features + td_var_features, 'TD', 'TD ExIF', results)\n"
   ]
  },
  {
   "cell_type": "code",
   "execution_count": null,
   "metadata": {},
   "outputs": [],
   "source": [
    "# fluorescence exif classification\n",
    "for m in ['CD44', 'CD44std', 'CD44v9', 'Ecadherin', 'EpCAM', 'Ncadherin', 'PTEN', 'Vimentin']:\n",
    "    results = run_classification(fluorescence_exif_df, m, context_features + general_marker_features + variable_predicted_features, 'DAPI_phalloidin_Bcatenin', 'fluo ExIF', results)"
   ]
  },
  {
   "cell_type": "code",
   "execution_count": null,
   "metadata": {},
   "outputs": [],
   "source": [
    "# Full ExIF\n",
    "for m in ['CD44', 'CD44std', 'CD44v9', 'Ecadherin', 'EpCAM', 'Ncadherin', 'PTEN', 'Vimentin']:\n",
    "    results = run_classification(exif_df, m, context_features + general_marker_features + variable_predicted_features, 'TD_DAPI_phalloidin_Bcatenin', 'full ExIF', results)"
   ]
  },
  {
   "cell_type": "code",
   "execution_count": null,
   "metadata": {},
   "outputs": [],
   "source": [
    "results_df = pd.DataFrame.from_dict(results)[['experiment', 'fold', 'f1']].groupby(['experiment', 'fold']).agg(np.median).reset_index()\n",
    "\n",
    "fig = px.box(\n",
    "    results_df,\n",
    "    x='experiment',\n",
    "    y='f1',\n",
    "    category_orders={'experiment': ['common markers', 'TD label replacement', 'real 4-plex', 'TD ExIF', 'fluo ExIF', 'full ExIF']}\n",
    "    \n",
    ")\n",
    "\n",
    "fig.update_traces(boxmean=True)"
   ]
  },
  {
   "cell_type": "code",
   "execution_count": null,
   "metadata": {},
   "outputs": [],
   "source": [
    "exp_results_df = results_df\n",
    "\n",
    "\n",
    "group1 = exp_results_df[(exp_results_df['experiment']=='common markers')]\n",
    "group2 = exp_results_df[(exp_results_df['experiment']=='TD label replacement')]\n",
    "\n",
    "t = ttest_ind(group1['f1'], group2['f1'], equal_var=False)\n",
    "print(f'common vs replacement {t.pvalue}')\n",
    "\n",
    "\n",
    "group1 = exp_results_df[(exp_results_df['experiment']=='TD label replacement')]\n",
    "group2 = exp_results_df[(exp_results_df['experiment']=='real 4-plex')]\n",
    "\n",
    "t = ttest_ind(group1['f1'], group2['f1'], equal_var=False)\n",
    "print(f'replacement vs stdIF {t.pvalue}')\n",
    "\n",
    "\n",
    "group1 = exp_results_df[(exp_results_df['experiment']=='real 4-plex')]\n",
    "group2 = exp_results_df[(exp_results_df['experiment']=='TD ExIF')]\n",
    "\n",
    "t = ttest_ind(group1['f1'], group2['f1'], equal_var=False)\n",
    "print(f'stdIF vs td_exif {t.pvalue}')\n",
    "\n",
    "\n",
    "group1 = exp_results_df[(exp_results_df['experiment']=='common markers')]\n",
    "group2 = exp_results_df[(exp_results_df['experiment']=='fluo ExIF')]\n",
    "\n",
    "t = ttest_ind(group1['f1'], group2['f1'], equal_var=False)\n",
    "print(f'relevant_common vs notd_exif {t.pvalue}')\n",
    "\n",
    "group1 = exp_results_df[(exp_results_df['experiment']=='full ExIF')]\n",
    "group2 = exp_results_df[(exp_results_df['experiment']=='fluo ExIF')]\n",
    "\n",
    "t = ttest_ind(group1['f1'], group2['f1'], equal_var=False)\n",
    "print(f'exif vs notd_exif {t.pvalue}')\n",
    "\n",
    "group1 = exp_results_df[(exp_results_df['experiment']=='real 4-plex')]\n",
    "group2 = exp_results_df[(exp_results_df['experiment']=='full ExIF')]\n",
    "\n",
    "t = ttest_ind(group1['f1'], group2['f1'], equal_var=False)\n",
    "print(f'stdIF vs exif {t.pvalue}')\n"
   ]
  }
 ],
 "metadata": {
  "kernelspec": {
   "display_name": "analysis",
   "language": "python",
   "name": "python3"
  },
  "language_info": {
   "codemirror_mode": {
    "name": "ipython",
    "version": 3
   },
   "file_extension": ".py",
   "mimetype": "text/x-python",
   "name": "python",
   "nbconvert_exporter": "python",
   "pygments_lexer": "ipython3",
   "version": "3.9.18"
  },
  "orig_nbformat": 4
 },
 "nbformat": 4,
 "nbformat_minor": 2
}
