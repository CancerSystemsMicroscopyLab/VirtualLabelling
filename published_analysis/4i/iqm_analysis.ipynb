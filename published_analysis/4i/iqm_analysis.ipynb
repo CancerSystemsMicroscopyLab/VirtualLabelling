{
 "cells": [
  {
   "cell_type": "code",
   "execution_count": 1,
   "metadata": {},
   "outputs": [],
   "source": [
    "import glob\n",
    "import os\n",
    "\n",
    "import numpy as np\n",
    "import pandas as pd\n",
    "import plotly.express as px\n",
    "from scipy.stats import ttest_ind"
   ]
  },
  {
   "cell_type": "code",
   "execution_count": 2,
   "metadata": {},
   "outputs": [],
   "source": [
    "markers = [\n",
    "    'Atubulin',\n",
    "    'Bcatenin',\n",
    "    'CoxIV',\n",
    "    'DAPI',\n",
    "    'Factin',\n",
    "    'Fibrillarin',\n",
    "    'GM130',\n",
    "    'NFkB',\n",
    "]"
   ]
  },
  {
   "cell_type": "code",
   "execution_count": 3,
   "metadata": {},
   "outputs": [],
   "source": [
    "# load results from all experiments\n",
    "path = r'./iqm_results/'\n",
    "all_files = glob.glob(os.path.join(path, f\"*/multiplex/*/*/*/test_results/results.csv\"))\n",
    "\n",
    "image_df = pd.DataFrame()\n",
    "\n",
    "for f in all_files:\n",
    "    image_metrics_results = pd.read_csv(f)\n",
    "    image_metrics_results['fold'] = f.split('\\\\')[-4][-1]\n",
    "    image_metrics_results['marker'] = f.split('\\\\')[-5].split('-')[-1]\n",
    "    image_metrics_results['input'] = f.split('\\\\')[-5].split('-')[-2]\n",
    "    image_metrics_results['model'] = f.split('\\\\')[-7]\n",
    "\n",
    "    image_df = pd.concat([image_df, image_metrics_results], ignore_index=True)\n",
    "\n",
    "image_df['in_num'] = image_df.input.str.split('_').str.len()\n"
   ]
  },
  {
   "cell_type": "code",
   "execution_count": null,
   "metadata": {},
   "outputs": [],
   "source": [
    "# find additional marker with most improvement for SSIM and PCC\n",
    "best_performing_pairs = image_df[image_df.model == 'ResViT'][['in_num', 'input', 'marker', 'fold', 'SSIM', 'PCC', 'L2']]\n",
    "best_performing_pairs = best_performing_pairs[best_performing_pairs.in_num == 2].groupby(['input', 'marker']).agg(np.median).reset_index()\n",
    "\n",
    "# best_performing_pairs.loc[best_performing_pairs.groupby('marker')['SSIM'].idxmax()][['marker', 'input', 'SSIM']]\n",
    "best_performing_pairs.loc[best_performing_pairs.groupby('marker')['PCC'].idxmax()][['marker', 'input', 'PCC']]"
   ]
  },
  {
   "cell_type": "code",
   "execution_count": null,
   "metadata": {},
   "outputs": [],
   "source": [
    "# only best performing pairs\n",
    "filtered_df = image_df[['in_num', 'input', 'marker', 'fold', 'model', 'SSIM', 'PCC']].groupby(['in_num', 'input', 'marker', 'fold', 'model']).agg(np.median).reset_index()\n",
    "\n",
    "filter_conditions = (filtered_df['marker'] == 'Atubulin') & (filtered_df['input'] == 'TD_GM130') | \\\n",
    "    (filtered_df['marker'] == 'Bcatenin') & (filtered_df['input'] == 'TD_Factin') | \\\n",
    "    (filtered_df['marker'] == 'CoxIV') & (filtered_df['input'] == 'TD_NFkB') |\\\n",
    "    (filtered_df['marker'] == 'DAPI') & (filtered_df['input'] == 'TD_Fibrillarin') |\\\n",
    "    (filtered_df['marker'] == 'Factin') & (filtered_df['input'] == 'TD_Fibrillarin') |\\\n",
    "    (filtered_df['marker'] == 'Fibrillarin') & (filtered_df['input'] == 'TD_DAPI')|\\\n",
    "    (filtered_df['marker'] == 'GM130') & (filtered_df['input'] == 'TD_Atubulin')|\\\n",
    "    (filtered_df['marker'] == 'NFkB') & (filtered_df['input'] == 'TD_Atubulin')|\\\n",
    "    (filtered_df.in_num != 2)\n",
    "\n",
    "filtered_df = filtered_df[filter_conditions]\n",
    "filtered_df = filtered_df[~((filtered_df.in_num == 1) & (filtered_df.input != 'TD'))]\n",
    "filtered_df = filtered_df.sort_values(['marker', 'in_num'])\n",
    "\n",
    "fig = px.box(\n",
    "    filtered_df.melt(id_vars=['fold','marker', 'input', 'in_num', 'model']),\n",
    "    x='marker',\n",
    "    y='value',\n",
    "    facet_row = 'variable',\n",
    "    facet_col='model',\n",
    "    color='in_num',\n",
    ")\n",
    "\n",
    "fig.update_layout(yaxis_range=[0.2,1])\n",
    "\n",
    "\n",
    "fig.update_traces(boxmean=True)\n",
    "fig.update_traces(boxpoints=False)\n",
    "fig.show() \n"
   ]
  },
  {
   "cell_type": "code",
   "execution_count": null,
   "metadata": {},
   "outputs": [],
   "source": [
    "#perform Welch's t-test\n",
    "iqm = 'SSIM'\n",
    "# iqm = 'PCC'\n",
    "for model in ['ResViT', 'UNet', 'cGAN']:\n",
    "    for m in markers:\n",
    "        test_pop = filtered_df[filtered_df['marker']==m]\n",
    "        test_pop = test_pop[test_pop['model']==model]\n",
    "\n",
    "        group1 = test_pop[test_pop['in_num']==1]\n",
    "        group2 = test_pop[test_pop['in_num']==2]\n",
    "        group8 = test_pop[test_pop['in_num']==8]\n",
    "\n",
    "        test = ttest_ind(group1[iqm], group2[iqm], equal_var=False)\n",
    "        print(f'{model} 1v2 {m}, : {test.pvalue}')\n",
    "\n",
    "        test = ttest_ind(group2[iqm], group8[iqm], equal_var=False)\n",
    "        print(f'{model} 2v8 {m}, : {test.pvalue}')"
   ]
  },
  {
   "cell_type": "code",
   "execution_count": null,
   "metadata": {},
   "outputs": [],
   "source": [
    "# GM130 and B-cat case study for multi inputs (resvit)\n",
    "doubles = image_df[((image_df.marker == 'GM130') | (image_df.marker == 'Bcatenin')) & ((image_df.in_num == 2) | (image_df.input == 'TD')) & (image_df.model == 'ResViT')]\n",
    "doubles['addition'] = doubles.input.str.split('_').str[-1]\n",
    "doubles = doubles[['fold', 'addition', 'marker', 'PCC', 'SSIM']].groupby(['fold', 'addition', 'marker']).agg(np.median).reset_index()\n",
    "\n",
    "fig = px.box(\n",
    "    doubles.melt(id_vars=['fold', 'addition','marker']),\n",
    "    x='addition',\n",
    "    y='value',\n",
    "    facet_row='variable',\n",
    "    facet_col='marker',\n",
    "    category_orders={'addition': ['TD', 'Atubulin', 'Bcatenin', 'CoxIV', 'DAPI', 'Factin', 'Fibrillarin', 'GM130', 'NFkB']}\n",
    ")\n",
    "fig.update_traces(boxpoints=False)\n",
    "fig.update_traces(boxmean=True)\n",
    "fig"
   ]
  },
  {
   "cell_type": "code",
   "execution_count": null,
   "metadata": {},
   "outputs": [],
   "source": [
    "#perform Welch's t-test against DIC only input\n",
    "\n",
    "# iqm = 'SSIM'\n",
    "iqm = 'PCC'\n",
    "# marker_of_interest = 'Bcatenin'\n",
    "marker_of_interest = 'GM130'\n",
    "\n",
    "for m in markers:\n",
    "    test_pop = doubles[doubles['marker']==marker_of_interest]\n",
    "    group1 = test_pop[test_pop['addition']=='TD'][iqm].astype('float')\n",
    "    group2 = test_pop[test_pop['addition']==m][iqm].astype('float')\n",
    "\n",
    "    test = ttest_ind(group1, group2, equal_var=False)\n",
    "    print(f'{m}, : {test.pvalue}')\n",
    "\n"
   ]
  }
 ],
 "metadata": {
  "kernelspec": {
   "display_name": "analysis",
   "language": "python",
   "name": "python3"
  },
  "language_info": {
   "codemirror_mode": {
    "name": "ipython",
    "version": 3
   },
   "file_extension": ".py",
   "mimetype": "text/x-python",
   "name": "python",
   "nbconvert_exporter": "python",
   "pygments_lexer": "ipython3",
   "version": "3.9.18"
  }
 },
 "nbformat": 4,
 "nbformat_minor": 2
}
