{
 "cells": [
  {
   "cell_type": "code",
   "execution_count": 4,
   "metadata": {},
   "outputs": [],
   "source": [
    "import numpy as np\n",
    "import pandas as pd\n",
    "import plotly.express as px\n",
    "\n",
    "from scipy.stats import ttest_ind\n",
    "from sklearn.preprocessing import StandardScaler\n",
    "from sklearn.model_selection import StratifiedKFold, train_test_split\n",
    "from sklearn.metrics import classification_report, confusion_matrix\n",
    "from sklearn.svm import LinearSVC\n",
    "\n",
    "import anndata\n",
    "import numpy as np\n",
    "import pandas as pd\n",
    "import phate\n",
    "import plotly.express as px\n",
    "import scFates as scf\n",
    "import statsmodels.api as sm\n",
    "\n",
    "from scipy.stats import ttest_ind\n",
    "from sklearn.metrics import classification_report\n",
    "from sklearn.preprocessing import StandardScaler\n",
    "import statsmodels.api as sm\n",
    "\n"
   ]
  },
  {
   "cell_type": "code",
   "execution_count": 5,
   "metadata": {},
   "outputs": [],
   "source": [
    "markers = [\n",
    "    'Actin',\n",
    "    'Bcat',\n",
    "    'DAPI',\n",
    "    'Btub',\n",
    "    'CD44',\n",
    "    'Ecadherin',\n",
    "    'EpCAM',\n",
    "    'Ncadherin',\n",
    "    'pancytokeratin',\n",
    "    'pSMAD23',\n",
    "    'Vim',\n",
    "    'ZEB1',\n",
    "    'zo1'\n",
    " ]"
   ]
  },
  {
   "cell_type": "code",
   "execution_count": null,
   "metadata": {},
   "outputs": [],
   "source": [
    "cell_df = pd.read_csv(r'./Cellprofiler outputs/exif_and_real.csv')\n",
    "cell_df['condition'] = cell_df.Metadata_well.str[-1]\n",
    "cell_df['row'] = cell_df.Metadata_well.str[0]"
   ]
  },
  {
   "cell_type": "code",
   "execution_count": 7,
   "metadata": {},
   "outputs": [],
   "source": [
    "def get_correlations(df, group_names, pred_name):\n",
    "    correlations = pd.DataFrame()\n",
    "    groups = df.groupby(group_names)\n",
    "    for feature in df.columns:\n",
    "        if 'FileName' in feature or 'PathName' in feature or 'Metadata' in feature:\n",
    "            pass\n",
    "        elif f'_{pred_name}' in feature:\n",
    "            pred_feature_multi = feature.replace(pred_name, pred_name, 1)\n",
    "            real_feature = feature.replace(f'_{pred_name}', '', 1)\n",
    "\n",
    "\n",
    "            pcorrelation = groups[[real_feature, pred_feature_multi]].corr('pearson').unstack().iloc[:,1].reset_index()\n",
    "            pcorrelation.columns = group_names + ['pcc']\n",
    "            pcorrelation['feature'] = feature\n",
    "            pcorrelation['feature_cat'] = feature.split('_', 1)[0]\n",
    "            pcorrelation['method'] = 'pearson'\n",
    "            correlations = pd.concat([correlations, pcorrelation], axis=0)\n",
    "\n",
    "    return correlations"
   ]
  },
  {
   "cell_type": "code",
   "execution_count": 8,
   "metadata": {},
   "outputs": [],
   "source": [
    "correlations_td = get_correlations(cell_df, ['Metadata_fold'], 'td')\n",
    "correlations_td['input'] = 'td'\n",
    "correlations_td['marker'] = correlations_td['feature'].str.extract(r'_([^_]+)_td')\n",
    "\n",
    "correlations_multi = get_correlations(cell_df, ['Metadata_fold'], 'multi')\n",
    "correlations_multi['input'] = 'multi'\n",
    "correlations_multi['marker'] = correlations_multi['feature'].str.extract(r'_([^_]+)_multi')\n",
    "\n",
    "correlations = pd.concat([correlations_td, correlations_multi])"
   ]
  },
  {
   "cell_type": "code",
   "execution_count": null,
   "metadata": {},
   "outputs": [],
   "source": [
    "correlation_per_cat = correlations[['feature_cat', 'input', 'pcc', 'marker']].groupby(['feature_cat', 'input', 'marker']).agg(np.median).reset_index()\n",
    "\n",
    "fig = px.box(\n",
    "    correlation_per_cat[correlation_per_cat['feature_cat'] != 'Location'],\n",
    "    x='feature_cat',\n",
    "    y='pcc',\n",
    "    color='input',\n",
    "    category_orders={'input': ['td', 'multi']},\n",
    "    # facet_col='marker',\n",
    "    # facet_col_wrap=7,\n",
    ")\n",
    "\n",
    "fig.for_each_annotation(lambda a: a.update(text=a.text.split(\"=\")[-1]))\n",
    "fig.update_traces(boxpoints=False) \n",
    "fig.update_traces(boxmean=True)\n",
    "fig.show()\n"
   ]
  },
  {
   "cell_type": "code",
   "execution_count": null,
   "metadata": {},
   "outputs": [],
   "source": [
    "for f in [\"Intensity\", \"RadialDistribution\", \"Texture\"]:\n",
    "    test_pop = correlation_per_cat[(correlation_per_cat['feature_cat']==f)]\n",
    "    group1 = test_pop[test_pop['input']=='multi'].dropna()\n",
    "    group2 = test_pop[test_pop['input']=='td'].dropna()\n",
    "\n",
    "    #perform Welch's t-test\n",
    "    test = ttest_ind(group1['pcc'], group2['pcc'], equal_var=False)\n",
    "    print(f'{f} : {test.pvalue}')"
   ]
  },
  {
   "cell_type": "code",
   "execution_count": 11,
   "metadata": {},
   "outputs": [],
   "source": [
    "results = {\n",
    "    'f1':[],\n",
    "    'precision':[],\n",
    "    'recall':[],\n",
    "    'fold': [],\n",
    "    'experiment':[],\n",
    "}"
   ]
  },
  {
   "cell_type": "code",
   "execution_count": 12,
   "metadata": {},
   "outputs": [],
   "source": [
    "# Classification\n",
    "def run_classification(df, features, name, results):\n",
    "\n",
    "    cell_data = df\n",
    "    \n",
    "    skf = StratifiedKFold(n_splits=5, shuffle=True, random_state=0)\n",
    "    features_cell_df = cell_data[features].values\n",
    "\n",
    "    fold = 0\n",
    "    for train_index, test_index in skf.split(features_cell_df, cell_data.condition.astype('category')):\n",
    "        fold = fold + 1\n",
    "        X_train = features_cell_df[train_index]\n",
    "        X_test = features_cell_df[test_index]\n",
    "        Y_train = cell_data.condition.astype('category').values[train_index]\n",
    "        Y_test = cell_data.condition.astype('category').values[test_index]\n",
    "\n",
    "        scaler = StandardScaler()\n",
    "        scaled_X_train = scaler.fit_transform(X_train)\n",
    "\n",
    "        classifier = LinearSVC()\n",
    "        classifier.fit(scaled_X_train, Y_train)\n",
    "\n",
    "        scaled_X_test = scaler.fit_transform(X_test)\n",
    "        y_hat = classifier.predict(scaled_X_test)\n",
    "\n",
    "        class_report = classification_report(Y_test, y_hat, target_names=['cond1', 'cond2', 'cond3'], output_dict=True)\n",
    "        f1 = class_report['weighted avg']['f1-score']\n",
    "        precision = class_report['weighted avg']['precision']\n",
    "        recall = class_report['weighted avg']['recall']\n",
    "\n",
    "        results['fold'].append(fold)\n",
    "        results['f1'].append(f1)\n",
    "        results['precision'].append(precision)\n",
    "        results['recall'].append(recall)\n",
    "        results['experiment'].append(name)\n",
    "\n",
    "    return results"
   ]
  },
  {
   "cell_type": "code",
   "execution_count": 13,
   "metadata": {},
   "outputs": [],
   "source": [
    "# select relevant morphology features\n",
    "morphology_features = [         \n",
    "       'AreaShape_Area',\n",
    "       'AreaShape_Compactness', 'AreaShape_Eccentricity',\n",
    "       'AreaShape_EquivalentDiameter', \n",
    "       'AreaShape_Extent', 'AreaShape_FormFactor', 'AreaShape_MajorAxisLength',\n",
    "       'AreaShape_MaxFeretDiameter', 'AreaShape_MaximumRadius',\n",
    "       'AreaShape_MeanRadius', 'AreaShape_MedianRadius',\n",
    "       'AreaShape_MinFeretDiameter', 'AreaShape_MinorAxisLength',\n",
    "       'AreaShape_Perimeter', 'AreaShape_Solidity',\n",
    "       'Neighbors_NumberOfNeighbors_Adjacent',\n",
    "       'Neighbors_PercentTouching_Adjacent',\n",
    "]"
   ]
  },
  {
   "cell_type": "code",
   "execution_count": 14,
   "metadata": {},
   "outputs": [],
   "source": [
    "markers = [\n",
    "    'Actin',\n",
    "    'Bcat',\n",
    "    'DAPI',\n",
    "    'Btub',\n",
    "    'CD44',\n",
    "    'Ecadherin',\n",
    "    'EpCAM',\n",
    "    'Ncadherin',\n",
    "    'pancytokeratin',\n",
    "    'pSMAD23',\n",
    "    'Vim',\n",
    "    'ZEB1',\n",
    "    'zo1'\n",
    " ]"
   ]
  },
  {
   "cell_type": "code",
   "execution_count": 15,
   "metadata": {},
   "outputs": [],
   "source": [
    "# Common markers only\n",
    "\n",
    "common_features = [col for col in cell_df.columns if (not '_multi' in col) and (not '_td' in col) and (not '_notd' in col)]\n",
    "common_features = [col for col in common_features if (col.startswith('Intensity')) or (col.startswith('RadialDistribution')) or (col.startswith('Texture'))]\n",
    "common_features = [col for col in common_features if ('DAPI' in col) or ('Actin' in col) or ('Bcat' in col)]\n",
    "\n",
    "# results = run_classification(cell_df, common_features + morphology_features, 'relevant_common', results)"
   ]
  },
  {
   "cell_type": "code",
   "execution_count": 16,
   "metadata": {},
   "outputs": [],
   "source": [
    "# TD label replacement\n",
    "for m in markers:\n",
    "    td_replacement_features = [col for col in cell_df.columns if ('_td' in col)]\n",
    "    td_replacement_features = [col for col in td_replacement_features if (col.startswith('Intensity')) or (col.startswith('RadialDistribution')) or (col.startswith('Texture'))]\n",
    "    td_replacement_features = [col for col in td_replacement_features if ('DAPI' in col) or ('Actin' in col) or ('Bcat' in col) or (m in col)]\n",
    "\n",
    "    # results = run_classification(cell_df, td_replacement_features + morphology_features, f'label_replacement', results)"
   ]
  },
  {
   "cell_type": "code",
   "execution_count": 17,
   "metadata": {},
   "outputs": [],
   "source": [
    "# real 4-plex features.\n",
    "\n",
    "stdIF_class_df = pd.DataFrame()\n",
    "for m in markers:\n",
    "    real_features = [col for col in cell_df.columns if (not '_multi' in col) and (not '_td' in col) and (not '_notd' in col)]\n",
    "    real_features = [col for col in real_features if (col.startswith('Intensity')) or (col.startswith('RadialDistribution')) or (col.startswith('Texture'))]\n",
    "    real_features = [col for col in real_features if ('DAPI' in col) or ('Actin' in col) or ('Bcat' in col) or (m in col)]\n",
    "\n",
    "    # results = run_classification(cell_df, real_features + morphology_features, f'stdIF', results)"
   ]
  },
  {
   "cell_type": "code",
   "execution_count": 18,
   "metadata": {},
   "outputs": [],
   "source": [
    "# td exif\n",
    "td_features = [col for col in cell_df.columns if ('_td' in col)] \n",
    "td_features = [col for col in td_features if (col.startswith('Intensity')) or (col.startswith('RadialDistribution')) or (col.startswith('Texture'))]  \n",
    "\n",
    "# results = run_classification(cell_df, td_features + morphology_features, 'td_exif', results)"
   ]
  },
  {
   "cell_type": "code",
   "execution_count": null,
   "metadata": {},
   "outputs": [],
   "source": [
    "# no TD exIF\n",
    "fluorescence_exif_cells = pd.read_csv(r'./Cellprofiler outputs/fluorescence_exif.csv')\n",
    "\n",
    "fluo_features = [col for col in fluorescence_exif_cells.columns if (('_notd' in col) or ('_DAPI' in col) or ('_Actin' in col) or ('_Bcat' in col)) and (not '_td' in col) and (not '_multi' in col)]\n",
    "fluo_features = [col for col in fluo_features if (col.startswith('Intensity')) or (col.startswith('RadialDistribution')) or ((col.startswith('Texture')))]\n",
    "\n",
    "# results = run_classification(fluorescence_exif_cells, fluo_features + morphology_features, 'fluorescence_exif', results)"
   ]
  },
  {
   "cell_type": "code",
   "execution_count": 23,
   "metadata": {},
   "outputs": [],
   "source": [
    "# full exif features\n",
    "\n",
    "multi_features = [col for col in cell_df.columns if (('_multi' in col) or ('_DAPI' in col) or ('_Actin' in col) or ('_Bcat' in col)) and (not '_td' in col) and (not '_notd' in col)]\n",
    "multi_features = [col for col in multi_features if (col.startswith('Intensity')) or (col.startswith('RadialDistribution')) or ((col.startswith('Texture')))]\n",
    "multi_features = multi_features \n",
    "\n",
    "# results = run_classification(cell_df, multi_features + morphology_features, 'Full Exif', results)"
   ]
  },
  {
   "cell_type": "code",
   "execution_count": 24,
   "metadata": {},
   "outputs": [],
   "source": [
    "# real multiplexing\n",
    "real_features = [col for col in cell_df.columns if (not '_multi' in col) and (not '_td' in col) and (not '_notd' in col)]\n",
    "real_features = [col for col in real_features if (col.startswith('Intensity')) or (col.startswith('RadialDistribution')) or (col.startswith('Texture'))] \n",
    "# results = run_classification(cell_df, real_features + morphology_features, 'real multiplex', results)"
   ]
  },
  {
   "cell_type": "code",
   "execution_count": null,
   "metadata": {},
   "outputs": [],
   "source": [
    "classification_df = pd.DataFrame.from_dict(results)"
   ]
  },
  {
   "cell_type": "code",
   "execution_count": null,
   "metadata": {},
   "outputs": [],
   "source": [
    "fig = px.box(\n",
    "    classification_df,\n",
    "    x='experiment',\n",
    "    y='f1',\n",
    ")\n",
    "\n",
    "fig.update_traces(boxpoints=False) \n",
    "fig.update_traces(boxmean=True)\n",
    "\n",
    "fig"
   ]
  },
  {
   "cell_type": "code",
   "execution_count": null,
   "metadata": {},
   "outputs": [],
   "source": [
    "# T-test between any of the experients. Here for example, comparison between common only and label replacement is shown\n",
    "group1 = classification_df[(classification_df['experiment']=='relevant_common')]\n",
    "group2 = classification_df[(classification_df['experiment']=='label_replacement')]\n",
    "\n",
    "t = ttest_ind(group1['f1'], group2['f1'], equal_var=False)\n",
    "print(f'common vs replacement {t.pvalue}')\n",
    "\n",
    "\n"
   ]
  },
  {
   "cell_type": "code",
   "execution_count": null,
   "metadata": {},
   "outputs": [],
   "source": []
  },
  {
   "cell_type": "code",
   "execution_count": null,
   "metadata": {},
   "outputs": [],
   "source": [
    "# manifold and trajectory analysis"
   ]
  },
  {
   "cell_type": "code",
   "execution_count": 91,
   "metadata": {},
   "outputs": [],
   "source": [
    "def embed(df, reducer, features):\n",
    "    scaler = StandardScaler()\n",
    "    scaled_virtual = scaler.fit_transform(df[features])\n",
    "\n",
    "    embedding = pd.DataFrame(reducer.fit_transform(scaled_virtual), columns=['x', 'y'])\n",
    "    embedding = embedding.join(df.reset_index())\n",
    "    embedding.condition = embedding.condition.astype(str)\n",
    "\n",
    "    return embedding\n",
    "\n",
    "\n",
    "# reducer = umap.TSNE()\n",
    "# reducer = umap.UMAP()\n",
    "reducer = phate.PHATE(knn=10, decay=20, t=4, n_jobs=-1, random_state=42)"
   ]
  },
  {
   "cell_type": "code",
   "execution_count": null,
   "metadata": {},
   "outputs": [],
   "source": [
    "# common markers embedding\n",
    "common_embedding = embed(cell_df, reducer, common_features)\n",
    "px.scatter(\n",
    "    common_embedding,\n",
    "    x='x',\n",
    "    y='y',\n",
    "    color='condition'\n",
    "    \n",
    ")"
   ]
  },
  {
   "cell_type": "code",
   "execution_count": null,
   "metadata": {},
   "outputs": [],
   "source": [
    "# Full ExIF embedding\n",
    "exif_embedding = embed(cell_df, reducer, multi_features)\n",
    "px.scatter(\n",
    "    exif_embedding,\n",
    "    x='x',\n",
    "    y='y',\n",
    "    color='condition',\n",
    "    width=600,\n",
    "    height=600\n",
    ")"
   ]
  },
  {
   "cell_type": "code",
   "execution_count": null,
   "metadata": {},
   "outputs": [],
   "source": [
    "# Experimentally multiplexed embedding\n",
    "multiplexed_embedding = embed(cell_df, reducer, real_features)\n",
    "px.scatter(\n",
    "    multiplexed_embedding,\n",
    "    x='x',\n",
    "    y='y',\n",
    "    color='condition'\n",
    "    width=600,\n",
    "    height=600\n",
    ")"
   ]
  },
  {
   "cell_type": "code",
   "execution_count": 94,
   "metadata": {},
   "outputs": [],
   "source": [
    "def run_pseudotime(df):\n",
    "\n",
    "    df.condition = df.condition.astype(int)\n",
    "\n",
    "    adata = anndata.AnnData(df[['x', 'y', 'condition']])\n",
    "    adata.raw=adata\n",
    "\n",
    "    adata.obsm['X_manifold'] = np.array(df[['x', 'y']])\n",
    "\n",
    "    scf.tl.curve(adata,Nodes=8,use_rep=\"X_manifold\",ndims_rep=2)\n",
    "    scf.tl.convert_to_soft(adata,0.001,10000, n_steps=1)\n",
    "    scf.pl.graph(adata,basis=\"manifold\")\n",
    "    # scf.tl.root(adata,\"condition\")\n",
    "    scf.tl.root(adata, 'condition', tips_only=True)\n",
    "\n",
    "    scf.tl.pseudotime(adata,n_jobs=-1,n_map=100,seed=42)\n",
    "\n",
    "    scf.pl.trajectory(adata,basis=\"manifold\",arrows=True,arrow_offset=3)\n",
    "\n",
    "    df['ptime'] = np.array(adata.uns['pseudotime_list']['1']['t'])\n",
    "\n",
    "    return df"
   ]
  },
  {
   "cell_type": "code",
   "execution_count": null,
   "metadata": {},
   "outputs": [],
   "source": [
    "ptime_common = run_pseudotime(common_embedding)\n",
    "ptime_exif = run_pseudotime(exif_embedding)\n",
    "ptime_multiplexed = run_pseudotime(multiplexed_embedding)"
   ]
  },
  {
   "cell_type": "code",
   "execution_count": null,
   "metadata": {},
   "outputs": [],
   "source": [
    "def lowess_smooth(groups):\n",
    "    lresult = pd.DataFrame()\n",
    "    for name, group in groups:\n",
    "        x = group['pseudotime'].values\n",
    "        y = group['value'].values\n",
    "        lowess = sm.nonparametric.lowess\n",
    "        smoothed = lowess(y, x, frac=0.2)  # frac controls the smoothing span\n",
    "        lowess_results = pd.DataFrame(smoothed)\n",
    "        lowess_results.columns = ['pseudotime', 'value']\n",
    "        lowess_results['variable'] = group.iloc[0]['variable']\n",
    "        # lowess_results['value'] = (lowess_results['value']-lowess_results['value'].min())/(lowess_results['value'].max()-lowess_results['value'].min())\n",
    "        lresult = pd.concat([lresult, lowess_results])\n",
    "    return lresult\n",
    "\n",
    "\n",
    "def ptime_trend(df, feature='Intensity_MeanIntensity', suffix='', no_commons=False):\n",
    "    \n",
    "    if no_commons:\n",
    "        f_cols = [f'{feature}_{x}{suffix}' for x in markers[3:]]\n",
    "    else:\n",
    "        f_cols = [f'{feature}_{x}{suffix}' for x in markers]\n",
    "\n",
    "    tmp = df[['x','y','condition','ptime',] + f_cols]\n",
    "    \n",
    "    for col in f_cols:\n",
    "        tmp[col] = (tmp[col] - tmp[col].mean()) / tmp[col].std()    \n",
    "\n",
    "    melt = tmp.melt(id_vars=['x', 'y', 'condition', 'ptime'])\n",
    "\n",
    "    melt['pseudotime'] = melt['ptime'].round(decimals=3)\n",
    "\n",
    "    fig = px.line(\n",
    "        lowess_smooth(melt.groupby(['pseudotime', 'variable']).agg(np.median).reset_index().groupby(['variable'])),\n",
    "\n",
    "        x='pseudotime',\n",
    "        y='value',\n",
    "        color='variable'\n",
    "    )\n",
    "    \n",
    "    return fig"
   ]
  },
  {
   "cell_type": "code",
   "execution_count": null,
   "metadata": {},
   "outputs": [],
   "source": [
    "ptime_trend(ptime_common, suffix='', no_commons=False)"
   ]
  },
  {
   "cell_type": "code",
   "execution_count": null,
   "metadata": {},
   "outputs": [],
   "source": [
    "# real experimentally labelled dynamics on the exif trajectory\n",
    "ptime_trend(ptime_exif, suffix='', no_commons=False)\n"
   ]
  },
  {
   "cell_type": "code",
   "execution_count": null,
   "metadata": {},
   "outputs": [],
   "source": [
    "# virtually labelled dynamics on the exif trajectory\n",
    "ptime_trend(ptime_exif, suffix='_multi', no_commons=True)\n"
   ]
  },
  {
   "cell_type": "code",
   "execution_count": null,
   "metadata": {},
   "outputs": [],
   "source": [
    "ptime_trend(ptime_multiplexed, suffix='', no_commons=False)"
   ]
  }
 ],
 "metadata": {
  "kernelspec": {
   "display_name": "PytorchLab",
   "language": "python",
   "name": "python3"
  },
  "language_info": {
   "codemirror_mode": {
    "name": "ipython",
    "version": 3
   },
   "file_extension": ".py",
   "mimetype": "text/x-python",
   "name": "python",
   "nbconvert_exporter": "python",
   "pygments_lexer": "ipython3",
   "version": "3.10.4"
  },
  "orig_nbformat": 4
 },
 "nbformat": 4,
 "nbformat_minor": 2
}
